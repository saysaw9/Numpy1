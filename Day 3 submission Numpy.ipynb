{
 "cells": [
  {
   "cell_type": "raw",
   "metadata": {},
   "source": [
    "Q1. Create a numpy array starting from 2 till 50 with a stepsize of 3"
   ]
  },
  {
   "cell_type": "code",
   "execution_count": 1,
   "metadata": {},
   "outputs": [],
   "source": [
    "import numpy as np"
   ]
  },
  {
   "cell_type": "code",
   "execution_count": 2,
   "metadata": {},
   "outputs": [
    {
     "data": {
      "text/plain": [
       "array([ 2,  5,  8, 11, 14, 17, 20, 23, 26, 29, 32, 35, 38, 41, 44, 47, 50])"
      ]
     },
     "execution_count": 2,
     "metadata": {},
     "output_type": "execute_result"
    }
   ],
   "source": [
    "np.arange(2,51,3)"
   ]
  },
  {
   "cell_type": "raw",
   "metadata": {},
   "source": [
    "Q2. Accept two lists of 5 elements each from the user.\n",
    "Convert them to numpy arrays. Concatenate these arrays and print it. Also sort these arrays and print it."
   ]
  },
  {
   "cell_type": "code",
   "execution_count": 3,
   "metadata": {},
   "outputs": [
    {
     "name": "stdout",
     "output_type": "stream",
     "text": [
      "1\n",
      "2\n",
      "3\n",
      "4\n",
      "5\n",
      "LIST1: [1, 2, 3, 4, 5]\n",
      "2\n",
      "3\n",
      "4\n",
      "5\n",
      "6\n",
      "LIST2: [2, 3, 4, 5, 6]\n"
     ]
    }
   ],
   "source": [
    "lst1 = []\n",
    "lst2 = []\n",
    "for i in range(5):\n",
    "    num1 = int(input())\n",
    "    lst1.append(num1)\n",
    "print(\"LIST1:\",lst1)\n",
    "\n",
    "for i in range(5):\n",
    "    num2 = int(input())\n",
    "    lst2.append(num2)\n",
    "print(\"LIST2:\",lst2)"
   ]
  },
  {
   "cell_type": "code",
   "execution_count": 6,
   "metadata": {},
   "outputs": [
    {
     "name": "stdout",
     "output_type": "stream",
     "text": [
      "list to array conversion1: [1 2 3 4 5]\n",
      "list to array conversion2: [2 3 4 5 6]\n"
     ]
    }
   ],
   "source": [
    "#convert to array\n",
    "my_list1 = np.array(lst1)\n",
    "my_list2 = np.array(lst2)\n",
    "print(\"list to array conversion1:\",my_list1)\n",
    "print(\"list to array conversion2:\",my_list2)"
   ]
  },
  {
   "cell_type": "code",
   "execution_count": 7,
   "metadata": {},
   "outputs": [
    {
     "name": "stdout",
     "output_type": "stream",
     "text": [
      "concatination of two arrays is: [1 2 3 4 5 2 3 4 5 6]\n"
     ]
    }
   ],
   "source": [
    "#concatination of array\n",
    "array_concat = np.concatenate((my_list1,my_list2))\n",
    "print(\"concatination of two arrays is:\",array_concat)"
   ]
  },
  {
   "cell_type": "code",
   "execution_count": 8,
   "metadata": {},
   "outputs": [],
   "source": [
    "#sorting of array\n",
    "sorted_array = np.sort(array_concat)"
   ]
  },
  {
   "cell_type": "code",
   "execution_count": 9,
   "metadata": {},
   "outputs": [
    {
     "name": "stdout",
     "output_type": "stream",
     "text": [
      "sorted array is: [1 2 2 3 3 4 4 5 5 6]\n"
     ]
    }
   ],
   "source": [
    "print(\"sorted array is:\",sorted_array)"
   ]
  },
  {
   "cell_type": "raw",
   "metadata": {},
   "source": [
    "Q3. Write a code snippet to find the dimensions of a ndarray and its size."
   ]
  },
  {
   "cell_type": "code",
   "execution_count": 11,
   "metadata": {},
   "outputs": [
    {
     "name": "stdout",
     "output_type": "stream",
     "text": [
      "dimensions of a ndarray is: 2\n",
      "size of an ndarray is: 9\n"
     ]
    }
   ],
   "source": [
    "array_one = np.array([[1,2,3],[5,6,7],[8,7,6]])\n",
    "print(\"dimensions of a ndarray is:\",array_one.ndim)\n",
    "print(\"size of an ndarray is:\",array_one.size)"
   ]
  },
  {
   "cell_type": "raw",
   "metadata": {},
   "source": [
    "Q4. How to convert a 1D array into a 2D array? Demonstrate with the help of a code snippet\n",
    "Hint: np.newaxis, np.expand_dims"
   ]
  },
  {
   "cell_type": "code",
   "execution_count": 12,
   "metadata": {},
   "outputs": [
    {
     "name": "stdout",
     "output_type": "stream",
     "text": [
      "2\n",
      "Test 1D array (shape): (2,)\n"
     ]
    }
   ],
   "source": [
    "arr = np.arange(int(input()))\n",
    "print(\"Test 1D array (shape):\",arr.shape)"
   ]
  },
  {
   "cell_type": "code",
   "execution_count": 13,
   "metadata": {},
   "outputs": [
    {
     "name": "stdout",
     "output_type": "stream",
     "text": [
      "Test 2D array: (1, 2)\n"
     ]
    }
   ],
   "source": [
    "two_D_array_row = arr[np.newaxis]\n",
    "print(\"Test 2D array:\",two_D_array_row.shape)"
   ]
  },
  {
   "cell_type": "code",
   "execution_count": 14,
   "metadata": {},
   "outputs": [
    {
     "name": "stdout",
     "output_type": "stream",
     "text": [
      "Test 2D array: (2, 1)\n"
     ]
    }
   ],
   "source": [
    "two_D_array_col = arr[:,np.newaxis]\n",
    "print(\"Test 2D array:\",two_D_array_col.shape)"
   ]
  },
  {
   "cell_type": "markdown",
   "metadata": {},
   "source": [
    "# OR"
   ]
  },
  {
   "cell_type": "code",
   "execution_count": 15,
   "metadata": {},
   "outputs": [
    {
     "name": "stdout",
     "output_type": "stream",
     "text": [
      "[[2]\n",
      " [4]]\n"
     ]
    }
   ],
   "source": [
    "a = np.array([2, 4])\n",
    "b = np.expand_dims(a, axis=1)\n",
    "print(b)"
   ]
  },
  {
   "cell_type": "code",
   "execution_count": 16,
   "metadata": {},
   "outputs": [
    {
     "data": {
      "text/plain": [
       "(2, 1)"
      ]
     },
     "execution_count": 16,
     "metadata": {},
     "output_type": "execute_result"
    }
   ],
   "source": [
    "b.shape"
   ]
  },
  {
   "cell_type": "raw",
   "metadata": {},
   "source": [
    "Q5. Consider two square numpy arrays. Stack them vertically and horizontally.\n",
    "Hint: Use vstack(), hstack()"
   ]
  },
  {
   "cell_type": "code",
   "execution_count": 17,
   "metadata": {},
   "outputs": [
    {
     "name": "stdout",
     "output_type": "stream",
     "text": [
      "vertical stack is: [[  1   4   9  16  25]\n",
      " [ 36  49  64  81 100]]\n",
      "horizontal stack is: [  1   4   9  16  25  36  49  64  81 100]\n"
     ]
    }
   ],
   "source": [
    "stack_1 = np.square([1,2,3,4,5,])\n",
    "stack_2 = np.square([6,7,8,9,10])\n",
    "print(\"vertical stack is:\",np.vstack((stack_1,stack_2)))\n",
    "print(\"horizontal stack is:\",np.hstack((stack_1,stack_2)))"
   ]
  },
  {
   "cell_type": "raw",
   "metadata": {},
   "source": [
    "Q6. How to get unique items and counts of unique items?"
   ]
  },
  {
   "cell_type": "code",
   "execution_count": 18,
   "metadata": {},
   "outputs": [
    {
     "name": "stdout",
     "output_type": "stream",
     "text": [
      "[[1 2]\n",
      " [2 3]\n",
      " [3 1]\n",
      " [5 3]\n",
      " [6 1]\n",
      " [7 2]\n",
      " [8 2]\n",
      " [9 2]]\n"
     ]
    }
   ],
   "source": [
    "array_1 = np.array([1,2,3,1,2,2,5,8,8,5,9,7,9,7,6,5])\n",
    "unique, counts = np.unique(array_1,return_counts=True)\n",
    "array_1= np.asarray((unique, counts)).T\n",
    "print(array_1)"
   ]
  },
  {
   "cell_type": "code",
   "execution_count": null,
   "metadata": {},
   "outputs": [],
   "source": []
  }
 ],
 "metadata": {
  "kernelspec": {
   "display_name": "Python 3",
   "language": "python",
   "name": "python3"
  },
  "language_info": {
   "codemirror_mode": {
    "name": "ipython",
    "version": 3
   },
   "file_extension": ".py",
   "mimetype": "text/x-python",
   "name": "python",
   "nbconvert_exporter": "python",
   "pygments_lexer": "ipython3",
   "version": "3.7.6"
  }
 },
 "nbformat": 4,
 "nbformat_minor": 4
}
